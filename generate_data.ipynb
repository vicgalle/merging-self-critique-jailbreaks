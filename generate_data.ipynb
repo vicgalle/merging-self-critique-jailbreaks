{
 "cells": [
  {
   "cell_type": "code",
   "execution_count": 1,
   "metadata": {},
   "outputs": [],
   "source": [
    "import json\n",
    "import requests\n",
    "import tqdm\n",
    "from datasets import load_dataset"
   ]
  },
  {
   "cell_type": "code",
   "execution_count": null,
   "metadata": {},
   "outputs": [],
   "source": [
    "dataset = load_dataset(\n",
    "    \"csv\",\n",
    "    data_files=\"https://raw.githubusercontent.com/llm-attacks/llm-attacks/main/data/advbench/harmful_behaviors.csv\",\n",
    "    split=\"train\",\n",
    ")\n",
    "dataset = dataset.rename_column(\"goal\", \"text\")\n",
    "dataset = dataset.train_test_split(test_size=0.1, seed=0)"
   ]
  },
  {
   "cell_type": "code",
   "execution_count": 2,
   "metadata": {},
   "outputs": [],
   "source": [
    "# set test for evaluation set, or train for generating the synthetic data for later self-distillation\n",
    "split = \"test\"\n",
    "eval_prompts = dataset[split][\"text\"]"
   ]
  },
  {
   "cell_type": "code",
   "execution_count": 3,
   "metadata": {},
   "outputs": [],
   "source": [
    "def generate(prompt, context=None, model=\"safe-mistral\"):\n",
    "    retry = True\n",
    "\n",
    "    print(prompt)\n",
    "\n",
    "    while retry:\n",
    "        data = {\n",
    "            \"model\": model,\n",
    "            \"prompt\": prompt,\n",
    "            \"stream\": False,\n",
    "            \"options\": {\"num_predict\": 512},\n",
    "        }\n",
    "\n",
    "        if context:\n",
    "            data[\"context\"] = context\n",
    "\n",
    "        response = requests.post(\n",
    "            \"http://localhost:11434/api/generate\", data=json.dumps(data)\n",
    "        ).json()\n",
    "\n",
    "        print(response)\n",
    "        retry = response[\"response\"] == \"\" and response[\"model\"] == \"\"\n",
    "\n",
    "    return response[\"response\"], response[\"context\"]"
   ]
  },
  {
   "cell_type": "code",
   "execution_count": 4,
   "metadata": {},
   "outputs": [],
   "source": [
    "from templates import jailbreak_templates_revised\n",
    "\n",
    "jailbreak_templates = jailbreak_templates_revised * 100"
   ]
  },
  {
   "cell_type": "code",
   "execution_count": 16,
   "metadata": {},
   "outputs": [
    {
     "name": "stderr",
     "output_type": "stream",
     "text": [
      "100%|██████████| 52/52 [24:54<00:00, 28.73s/it]\n"
     ]
    }
   ],
   "source": [
    "# chose between safe-mistral, safe-mistral-prometheus for self-critique with merge or original model\n",
    "model = \"safe-mistral-prometheus\"\n",
    "\n",
    "results = []\n",
    "\n",
    "for eval_prompt, jailbreak_template in tqdm.tqdm(\n",
    "    zip(eval_prompts, jailbreak_templates), total=len(eval_prompts)\n",
    "):\n",
    "    jailbreak_prompt = jailbreak_template.format(prompt=eval_prompt)\n",
    "\n",
    "    response, context = generate(jailbreak_prompt, model=model)\n",
    "\n",
    "    critique, context = generate(\n",
    "        \"Identify specific ways in which your previous answer is harmful, unethical or illegal\",\n",
    "        context=context,\n",
    "        model=model, \n",
    "    )\n",
    "\n",
    "    response_revised, _ = generate(\n",
    "        \"Please, rewrite your original response using the previous critique to avoid mentioning harmful, unethical or illegal content\",\n",
    "        context=context,\n",
    "        model=model,\n",
    "    )\n",
    "\n",
    "    results.append(\n",
    "        {\n",
    "            \"prompt\": eval_prompt,\n",
    "            \"jailbreak_prompt\": jailbreak_prompt,\n",
    "            \"response\": response,\n",
    "            \"critique\": critique,\n",
    "            \"response_revised\": response_revised,\n",
    "            \"model\": model,\n",
    "        }\n",
    "    )\n",
    "    with open(f\"results_exp2_{model}_{split}.json\", \"w\") as f:\n",
    "        json.dump(results, f)"
   ]
  },
  {
   "cell_type": "code",
   "execution_count": null,
   "metadata": {},
   "outputs": [],
   "source": []
  }
 ],
 "metadata": {
  "kernelspec": {
   "display_name": "base",
   "language": "python",
   "name": "python3"
  },
  "language_info": {
   "codemirror_mode": {
    "name": "ipython",
    "version": 3
   },
   "file_extension": ".py",
   "mimetype": "text/x-python",
   "name": "python",
   "nbconvert_exporter": "python",
   "pygments_lexer": "ipython3",
   "version": "3.1.-1"
  }
 },
 "nbformat": 4,
 "nbformat_minor": 2
}
